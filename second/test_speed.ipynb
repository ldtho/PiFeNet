{
 "cells": [
  {
   "cell_type": "code",
   "execution_count": 1,
   "id": "cb3cdbee",
   "metadata": {
    "pycharm": {
     "name": "#%%\n"
    }
   },
   "outputs": [],
   "source": [
    "%load_ext autoreload\n",
    "%autoreload 2\n",
    "%matplotlib inline\n",
    "import numpy as np\n",
    "import matplotlib.pyplot as plt\n",
    "import pickle\n",
    "from pathlib import Path"
   ]
  },
  {
   "cell_type": "code",
   "execution_count": 2,
   "id": "0ca17c3c",
   "metadata": {
    "pycharm": {
     "name": "#%%\n"
    }
   },
   "outputs": [
    {
     "name": "stdout",
     "output_type": "stream",
     "text": [
      "Jupyter environment detected. Enabling Open3D WebVisualizer.\n",
      "[Open3D INFO] WebRTC GUI backend enabled.\n",
      "[Open3D INFO] WebRTCWindowSystem: HTTP handshake server disabled.\n"
     ]
    }
   ],
   "source": [
    "import torch\n",
    "from google.protobuf import text_format\n",
    "from second.utils import simplevis\n",
    "from second.pytorch.train import build_network\n",
    "from second.protos import pipeline_pb2\n",
    "from second.utils import config_tool"
   ]
  },
  {
   "cell_type": "code",
   "execution_count": 3,
   "id": "c801bb67",
   "metadata": {
    "pycharm": {
     "name": "#%%\n"
    }
   },
   "outputs": [],
   "source": [
    "config_path = \"/home/starlet/GoogleDrive/code/secondpytorch/second/configs/experiment/PP_xyres_16_cycleped_featatt.config\"\n",
    "config = pipeline_pb2.TrainEvalPipelineConfig()\n",
    "with open(config_path, \"r\") as f:\n",
    "    proto_str = f.read()\n",
    "    text_format.Merge(proto_str, config)\n",
    "input_cfg = config.eval_input_reader\n",
    "model_cfg = config.model.second\n",
    "# config_tool.change_detection_range(model_cfg, [-50, -50, 50, 50])\n",
    "device = torch.device(\"cuda\" if torch.cuda.is_available() else \"cpu\")"
   ]
  },
  {
   "cell_type": "markdown",
   "id": "cd0a55ee",
   "metadata": {
    "pycharm": {
     "name": "#%% md\n"
    }
   },
   "source": [
    "## Build Network, Target Assigner and Voxel Generator"
   ]
  },
  {
   "cell_type": "code",
   "execution_count": 4,
   "id": "33e3f313",
   "metadata": {
    "pycharm": {
     "name": "#%%\n"
    }
   },
   "outputs": [
    {
     "name": "stdout",
     "output_type": "stream",
     "text": [
      "height, width 248 296\n"
     ]
    }
   ],
   "source": [
    "ckpt_path = \"/home/starlet/GoogleDrive/output/DANet_FULL_r1/voxelnet-92800.tckpt\"\n",
    "net = build_network(model_cfg, measure_time=True).to(device).eval()\n",
    "net.load_state_dict(torch.load(ckpt_path))\n",
    "target_assigner = net.target_assigner\n",
    "voxel_generator = net.voxel_generator"
   ]
  },
  {
   "cell_type": "markdown",
   "id": "51502d4b",
   "metadata": {
    "pycharm": {
     "name": "#%% md\n"
    }
   },
   "source": [
    "## Generate anchors"
   ]
  },
  {
   "cell_type": "code",
   "execution_count": 5,
   "id": "a0e76b9f",
   "metadata": {
    "pycharm": {
     "name": "#%%\n"
    }
   },
   "outputs": [],
   "source": [
    "grid_size = voxel_generator.grid_size\n",
    "feature_map_size = grid_size[:2] // config_tool.get_downsample_factor(model_cfg)\n",
    "feature_map_size = [*feature_map_size, 1][::-1]\n",
    "\n",
    "anchors = target_assigner.generate_anchors(feature_map_size)[\"anchors\"]\n",
    "anchors = torch.tensor(anchors, dtype=torch.float32, device=device)\n",
    "anchors = anchors.view(1, -1, 7)"
   ]
  },
  {
   "cell_type": "code",
   "execution_count": 6,
   "id": "5942de1c",
   "metadata": {
    "pycharm": {
     "name": "#%%\n"
    }
   },
   "outputs": [
    {
     "data": {
      "text/plain": [
       "[1, 248, 296]"
      ]
     },
     "execution_count": 6,
     "metadata": {},
     "output_type": "execute_result"
    }
   ],
   "source": [
    "feature_map_size"
   ]
  },
  {
   "cell_type": "markdown",
   "id": "5101cb79",
   "metadata": {
    "pycharm": {
     "name": "#%% md\n"
    }
   },
   "source": [
    "## Read KITTI Infos"
   ]
  },
  {
   "cell_type": "code",
   "execution_count": 7,
   "id": "438c96db",
   "metadata": {
    "pycharm": {
     "name": "#%%\n"
    }
   },
   "outputs": [],
   "source": [
    "info_path = input_cfg.dataset.kitti_info_path\n",
    "root_path = Path(input_cfg.dataset.kitti_root_path)\n",
    "with open(info_path, 'rb') as f:\n",
    "    infos = pickle.load(f)"
   ]
  },
  {
   "cell_type": "markdown",
   "id": "3e171271",
   "metadata": {
    "pycharm": {
     "name": "#%% md\n"
    }
   },
   "source": [
    "## Load Point Cloud, Generate Voxels"
   ]
  },
  {
   "cell_type": "code",
   "execution_count": 8,
   "id": "4a02ffa9",
   "metadata": {
    "pycharm": {
     "name": "#%%\n"
    }
   },
   "outputs": [],
   "source": [
    "info = infos[564]\n",
    "v_path = info[\"point_cloud\"]['velodyne_path']\n",
    "v_path = str(root_path / v_path)\n",
    "points = np.fromfile(\n",
    "    v_path, dtype=np.float32, count=-1).reshape([-1, 4])\n",
    "voxels, coords, num_points,voxel_point_mask, voxel_num = voxel_generator.generate(points, max_voxels=90000).values()\n"
   ]
  },
  {
   "cell_type": "code",
   "execution_count": 9,
   "id": "842a16ae",
   "metadata": {
    "pycharm": {
     "name": "#%%\n"
    }
   },
   "outputs": [],
   "source": [
    "# add batch idx to coords\n",
    "coords = np.pad(coords, ((0, 0), (1, 0)), mode='constant', constant_values=0)\n",
    "voxels = torch.tensor(voxels, dtype=torch.float32, device=device)\n",
    "coords = torch.tensor(coords, dtype=torch.int32, device=device)\n",
    "num_points = torch.tensor(num_points, dtype=torch.int32, device=device)"
   ]
  },
  {
   "cell_type": "code",
   "execution_count": 10,
   "id": "775299b3",
   "metadata": {
    "pycharm": {
     "name": "#%%\n"
    }
   },
   "outputs": [
    {
     "data": {
      "text/plain": [
       "(torch.Size([1, 293632, 7]),\n",
       " torch.Size([9942, 100, 4]),\n",
       " torch.Size([9942]),\n",
       " torch.Size([9942, 4]))"
      ]
     },
     "execution_count": 10,
     "metadata": {},
     "output_type": "execute_result"
    }
   ],
   "source": [
    "anchors.shape, voxels.shape, num_points.shape, coords.shape,"
   ]
  },
  {
   "cell_type": "markdown",
   "id": "3a4f7dbf",
   "metadata": {
    "pycharm": {
     "name": "#%% md\n"
    }
   },
   "source": [
    "## Detection"
   ]
  },
  {
   "cell_type": "code",
   "execution_count": 11,
   "id": "c61490c1",
   "metadata": {
    "pycharm": {
     "name": "#%%\n"
    }
   },
   "outputs": [
    {
     "data": {
      "text/plain": [
       "dict_keys(['training', '_parameters', '_buffers', '_non_persistent_buffers_set', '_backward_hooks', '_forward_hooks', '_forward_pre_hooks', '_state_dict_hooks', '_load_state_dict_pre_hooks', '_modules', 'name', '_sin_error_factor', '_num_class', '_use_rotate_nms', '_multiclass_nms', '_nms_score_thresholds', '_nms_pre_max_sizes', '_nms_post_max_sizes', '_nms_iou_thresholds', '_use_sigmoid_score', '_encode_background_as_zeros', '_use_direction_classifier', '_num_input_features', '_box_coder', 'target_assigner', 'voxel_generator', '_pos_cls_weight', '_neg_cls_weight', '_encode_rad_error_by_sin', '_loss_norm_type', '_dir_loss_ftor', '_diff_loc_loss_ftor', '_dir_offset', '_loc_loss_ftor', '_cls_loss_ftor', '_direction_loss_weight', '_cls_loss_weight', '_loc_loss_weight', '_post_center_range', 'measure_time', '_nms_class_agnostic', '_num_direction_bins', '_dir_limit_offset', '_time_dict', '_time_total_dict', '_time_count_dict'])"
      ]
     },
     "execution_count": 11,
     "metadata": {},
     "output_type": "execute_result"
    }
   ],
   "source": [
    "net.__dict__.keys()"
   ]
  },
  {
   "cell_type": "code",
   "execution_count": 17,
   "id": "2888144b",
   "metadata": {
    "pycharm": {
     "name": "#%%\n"
    }
   },
   "outputs": [],
   "source": [
    "example = {\n",
    "    \"anchors\": anchors,\n",
    "    \"voxels\": voxels,\n",
    "    \"num_points\": num_points,\n",
    "    \"coordinates\": coords,\n",
    "}\n",
    "pred = net(example)[0]"
   ]
  },
  {
   "cell_type": "code",
   "execution_count": 24,
   "id": "5d5fdad2",
   "metadata": {
    "pycharm": {
     "name": "#%%\n"
    }
   },
   "outputs": [
    {
     "data": {
      "text/plain": [
       "{'voxel_feature_extractor': 0,\n",
       " 'middle forward': 0,\n",
       " 'rpn forward': 0,\n",
       " 'predict': 0,\n",
       " 'okok': 0}"
      ]
     },
     "execution_count": 24,
     "metadata": {},
     "output_type": "execute_result"
    }
   ],
   "source": [
    "net._time_dict"
   ]
  },
  {
   "cell_type": "code",
   "execution_count": 22,
   "id": "d205958a",
   "metadata": {
    "pycharm": {
     "name": "#%%\n"
    }
   },
   "outputs": [],
   "source": [
    "net.start_timer(\"okok\")"
   ]
  },
  {
   "cell_type": "code",
   "execution_count": 23,
   "id": "9dceb82d",
   "metadata": {
    "pycharm": {
     "name": "#%%\n"
    }
   },
   "outputs": [],
   "source": [
    "net.end_timer(\"okok\")"
   ]
  },
  {
   "cell_type": "code",
   "execution_count": 26,
   "id": "83d40459",
   "metadata": {
    "pycharm": {
     "name": "#%%\n"
    }
   },
   "outputs": [
    {
     "data": {
      "text/plain": [
       "0"
      ]
     },
     "execution_count": 26,
     "metadata": {},
     "output_type": "execute_result"
    }
   ],
   "source": [
    "net._time_dict['okok']"
   ]
  },
  {
   "cell_type": "code",
   "execution_count": 28,
   "id": "b3b2b814",
   "metadata": {
    "pycharm": {
     "name": "#%%\n"
    }
   },
   "outputs": [
    {
     "data": {
      "text/plain": [
       "{'voxel_feature_extractor': 2,\n",
       " 'middle forward': 2,\n",
       " 'rpn forward': 2,\n",
       " 'predict': 2,\n",
       " 'okok': 1}"
      ]
     },
     "execution_count": 28,
     "metadata": {},
     "output_type": "execute_result"
    }
   ],
   "source": [
    "net._time_count_dict"
   ]
  },
  {
   "cell_type": "code",
   "execution_count": 30,
   "id": "7239e530",
   "metadata": {
    "pycharm": {
     "name": "#%%\n"
    }
   },
   "outputs": [
    {
     "data": {
      "text/plain": [
       "{'voxel_feature_extractor': 0.44613075256347656,\n",
       " 'middle forward': 0.0011856555938720703,\n",
       " 'rpn forward': 0.03686261177062988,\n",
       " 'predict': 0.0062863826751708984,\n",
       " 'okok': 4.521486043930054}"
      ]
     },
     "execution_count": 30,
     "metadata": {},
     "output_type": "execute_result"
    }
   ],
   "source": [
    "net._time_total_dict"
   ]
  },
  {
   "cell_type": "code",
   "execution_count": 33,
   "id": "6e6495f1",
   "metadata": {
    "pycharm": {
     "name": "#%%\n"
    }
   },
   "outputs": [
    {
     "data": {
      "text/plain": [
       "0.01843130588531494"
      ]
     },
     "execution_count": 33,
     "metadata": {},
     "output_type": "execute_result"
    }
   ],
   "source": [
    "net._time_total_dict['rpn forward'] / net._time_count_dict['rpn forward']"
   ]
  },
  {
   "cell_type": "code",
   "execution_count": 35,
   "id": "29d47298",
   "metadata": {
    "pycharm": {
     "name": "#%%\n"
    }
   },
   "outputs": [
    {
     "name": "stdout",
     "output_type": "stream",
     "text": [
      "1633256204.0408084 1633256205.0419421 1.001133680343628\n"
     ]
    }
   ],
   "source": [
    "import time\n",
    "start = time.time()\n",
    "time.sleep(1)\n",
    "end = time.time()\n",
    "print(start, end, end-start)"
   ]
  },
  {
   "cell_type": "code",
   "execution_count": 36,
   "id": "1e3d59e5",
   "metadata": {
    "pycharm": {
     "name": "#%%\n"
    }
   },
   "outputs": [
    {
     "data": {
      "text/plain": [
       "{'voxel_feature_extractor': 0.22306537628173828,\n",
       " 'middle forward': 0.0005928277969360352,\n",
       " 'rpn forward': 0.01843130588531494,\n",
       " 'predict': 0.0031431913375854492,\n",
       " 'okok': 4.521486043930054}"
      ]
     },
     "execution_count": 36,
     "metadata": {},
     "output_type": "execute_result"
    }
   ],
   "source": [
    "net.get_avg_time_dict()"
   ]
  },
  {
   "cell_type": "markdown",
   "id": "370bbec0",
   "metadata": {
    "pycharm": {
     "name": "#%% md\n"
    }
   },
   "source": [
    "avg example to torch time: 4.106 ms  \n",
    "avg prep time: 19.010 ms  \n",
    "avg voxel_feature_extractor time = 30.596 ms  \n",
    "avg middle forward time = 0.979 ms  \n",
    "avg rpn forward time = 29.202 ms  \n",
    "avg predict time = 5.105 ms  "
   ]
  },
  {
   "cell_type": "markdown",
   "id": "fceb9e10",
   "metadata": {
    "pycharm": {
     "name": "#%% md\n"
    }
   },
   "source": [
    "avg example to torch time: 2.406 ms  \n",
    "avg prep time: 10.308 ms  \n",
    "avg voxel_feature_extractor time = 15.743 ms  \n",
    "avg middle forward time = 0.600 ms  \n",
    "avg rpn forward time = 15.226 ms  \n",
    "avg predict time = 2.785 ms  "
   ]
  },
  {
   "cell_type": "markdown",
   "id": "ec0b34e7",
   "metadata": {
    "pycharm": {
     "name": "#%% md\n"
    }
   },
   "source": [
    "avg example to torch time: 2.374 ms  \n",
    "avg prep time: 9.912 ms  \n",
    "avg voxel_feature_extractor time = 15.462 ms  \n",
    "avg middle forward time = 0.559 ms  \n",
    "avg rpn forward time = 14.882 ms  \n",
    "avg predict time = 2.667 ms  "
   ]
  }
 ],
 "metadata": {
  "kernelspec": {
   "display_name": "Python 3",
   "language": "python",
   "name": "python3"
  },
  "language_info": {
   "codemirror_mode": {
    "name": "ipython",
    "version": 3
   },
   "file_extension": ".py",
   "mimetype": "text/x-python",
   "name": "python",
   "nbconvert_exporter": "python",
   "pygments_lexer": "ipython3",
   "version": "3.8.6"
  }
 },
 "nbformat": 4,
 "nbformat_minor": 5
}